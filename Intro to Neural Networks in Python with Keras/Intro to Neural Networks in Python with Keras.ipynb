{
 "cells": [
  {
   "cell_type": "markdown",
   "metadata": {},
   "source": [
    "# Intro to Neural Networks in Python with Keras\n",
    "\n",
    "Neural Networks are state-of-the-art when it comes to predictive modeling of complex data. In this notebook, we show the basic syntax to create a neural network using the Keras library on top of Tensorflow.\n",
    "\n",
    "### About Tensorflow\n",
    "Tensorflow is an open-source framework for building neural networks. Originally developed by Google Brain, Tensorflow's method of building neural networks is through manipulation of \"tensors\", which are similar to vectors.\n",
    "\n",
    "https://www.tensorflow.org/\n",
    "\n",
    "\n",
    "### About Keras\n",
    "Keras is a front-end library designed to make neural network design and implementation simple. Keras itself doesn't build the neural networks defined by the user - instead, it takes the description of the architecture from the user and ships the work off to a dedicated back-end, such as Tensorflow. The simple and Pythonic syntax of Keras has helped to democratize neural network usage, where Tensorflow can be pedantic and tiresome.\n",
    "\n",
    "https://keras.io/\n",
    "\n",
    "\n",
    "### About the Data\n",
    "We'll use two different data sets in this notebook:\n",
    "\n",
    "\n",
    "### How to Run This Code\n",
    "Within the folder containing this file should be a file called `requirements.txt`. Create a new Python 3.6 environment with virtualenv (`python3 -m virtualenv < name your env >`) or conda (`conda create -n < name your env > python=3.6`). Activate your environment, and once you've done so, use pip to install the necessary packages from `requirements.txt` like this: `pip install -r requirements.txt`. You may need to change directory locations for this to work.\n",
    "\n",
    "Once you've got the packages installed, you can download this notebook from this Github repo by finding the appropriate folder: https://github.com/JaredStufft/instructionals. Alternatively, you can fork and `git clone` the whole repo if you'd like."
   ]
  }
 ],
 "metadata": {
  "kernelspec": {
   "display_name": "Python 3",
   "language": "python",
   "name": "python3"
  },
  "language_info": {
   "codemirror_mode": {
    "name": "ipython",
    "version": 3
   },
   "file_extension": ".py",
   "mimetype": "text/x-python",
   "name": "python",
   "nbconvert_exporter": "python",
   "pygments_lexer": "ipython3",
   "version": "3.6.6"
  }
 },
 "nbformat": 4,
 "nbformat_minor": 2
}
