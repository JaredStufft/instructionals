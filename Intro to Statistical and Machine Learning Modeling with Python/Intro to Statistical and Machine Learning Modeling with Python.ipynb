{
 "cells": [
  {
   "cell_type": "markdown",
   "metadata": {},
   "source": [
    "# Intro to Statistical and Machine Learning Modeling with Python\n",
    "\n",
    "#### Jared Stufft\n",
    "\n",
    "< INFO >"
   ]
  },
  {
   "cell_type": "markdown",
   "metadata": {},
   "source": [
    "# Linear Regression Fundamentals\n",
    "\n",
    "Linear regression is one of the most basic and fundamental statistical models one can utilize - yet, its simplicity has allowed the model to become the basis for so many other methods. The idea is simple, given a set of independent variables and a continuous dependent variable, find the line that fits the best through the points. The equation for this line takes the format **Y = β0 + β1𝚾1+ β2𝚾2+ β2𝚾2 + … + βn𝚾n**, where Y is the continuous dependent variable, β0 is the intercept, 𝚾n is the _nth_ independent variable, and βn is the coefficient for that independent variable. For a simple example of one independent variable and one dependent variable, a linear regression line may look something like this:\n",
    "![Image of Linear Model](https://3.bp.blogspot.com/-9Aeg6sCftPQ/Wkzczq3TkEI/AAAAAAAACFQ/2POumT3SeS0phWdv4iSZNRf2wCEffTCJgCLcBGAs/s1600/a.jpg)\n",
    "\n",
    "The _error_ for an observation is the difference between the observed value and the predicted value - if you square this number and then sum them up, you get the _sum of squared errors (SSE)_, which is the number that a linear regression model will minimize to create the 'best fit'."
   ]
  },
  {
   "cell_type": "markdown",
   "metadata": {},
   "source": [
    "## Case Study 1: Boston House Prices\n",
    "\n",
    "We've collected a data set containing information about houses in the Greater Boston area. Each row in our data set represents a census tract with aggregate characteristics about the area and the houses within, such as the average number of rooms per house and crime rate. We also have the median house value for the census tract. Using this data, we can analyze the factors that affect house prices and predict the median price of a house that may come on the market in that area. We'll walk through some basic steps to explore the data as well."
   ]
  },
  {
   "cell_type": "code",
   "execution_count": 3,
   "metadata": {},
   "outputs": [],
   "source": [
    "# Import necessary libraries\n",
    "import pandas as pd # Pandas, which serves as our in-memory \"Excel\"\n",
    "import matplotlib.pyplot as plt # Matplotlib for some graphical exploration"
   ]
  },
  {
   "cell_type": "code",
   "execution_count": null,
   "metadata": {},
   "outputs": [],
   "source": []
  }
 ],
 "metadata": {
  "kernelspec": {
   "display_name": "Python 3",
   "language": "python",
   "name": "python3"
  },
  "language_info": {
   "codemirror_mode": {
    "name": "ipython",
    "version": 3
   },
   "file_extension": ".py",
   "mimetype": "text/x-python",
   "name": "python",
   "nbconvert_exporter": "python",
   "pygments_lexer": "ipython3",
   "version": "3.6.6"
  }
 },
 "nbformat": 4,
 "nbformat_minor": 2
}
